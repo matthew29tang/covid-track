{
  "nbformat": 4,
  "nbformat_minor": 0,
  "metadata": {
    "colab": {
      "name": "pre-processor.ipynb",
      "provenance": [],
      "collapsed_sections": []
    },
    "kernelspec": {
      "name": "python3",
      "display_name": "Python 3"
    }
  },
  "cells": [
    {
      "cell_type": "code",
      "metadata": {
        "id": "AjdLmeiEIYXD",
        "colab_type": "code",
        "colab": {
          "base_uri": "https://localhost:8080/",
          "height": 34
        },
        "outputId": "023691ec-f1aa-493c-bfb5-438917f7ee0e"
      },
      "source": [
        "import numpy as np\n",
        "import pandas as pd\n",
        "import matplotlib.pylab as plt\n",
        "import math\n",
        "\n",
        "import os\n",
        "from google.colab import drive\n",
        "drive.mount('/content/drive', force_remount=True)\n",
        "os.chdir(f'drive/My Drive/HackMIT2020')"
      ],
      "execution_count": null,
      "outputs": [
        {
          "output_type": "stream",
          "text": [
            "Mounted at /content/drive\n"
          ],
          "name": "stdout"
        }
      ]
    },
    {
      "cell_type": "code",
      "metadata": {
        "id": "jVPDOs6MI4Xd",
        "colab_type": "code",
        "colab": {
          "base_uri": "https://localhost:8080/",
          "height": 34
        },
        "outputId": "4b45dd8c-2bf0-44bc-a578-2ac6f802f382"
      },
      "source": [
        "os.listdir()"
      ],
      "execution_count": null,
      "outputs": [
        {
          "output_type": "execute_result",
          "data": {
            "text/plain": [
              "[]"
            ]
          },
          "metadata": {
            "tags": []
          },
          "execution_count": 4
        }
      ]
    },
    {
      "cell_type": "code",
      "metadata": {
        "id": "SIgNpBYYQoGw",
        "colab_type": "code",
        "colab": {
          "base_uri": "https://localhost:8080/",
          "height": 51
        },
        "outputId": "b7dede1a-6f3c-4ce0-a508-c2a4fa74520f"
      },
      "source": [
        "pwt = pd.read_csv('time_series_covid19_confirmed_global.csv')\n",
        "ccm = pd.read_excel('country-continent-map.xlsx') # country to continent mapping\n",
        "\n",
        "# Add Continent column\n",
        "pwt['Continent'] = \"\"\n",
        "cols = list(pwt.columns.values)\n",
        "pwt = pwt[cols[:1] + [cols[-1]] + cols[1:-1]]\n",
        "for i, row in pwt.iterrows():\n",
        "  country = row.loc['Country/Region']\n",
        "  target_as_df = ccm.loc[ccm['Country'] == country]\n",
        "  continent = target_as_df.iloc[0, 0]\n",
        "  pwt.at[i, 'Continent'] = continent\n",
        "\n",
        "# Remove Province/State column\n",
        "pwt.drop(pwt.columns[[0]], axis=1, inplace=True)\n",
        "\n",
        "drop = [x for x in range(4, len(pwt.columns))]\n",
        "x = []\n",
        "for i in drop:\n",
        "  if (i - 9) % 7 != 0:\n",
        "    x.append(i)\n",
        "pwt.drop(pwt.columns[x], axis=1, inplace=True)\n",
        "\n",
        "country_data1 = pwt.groupby(['Continent', 'Country/Region'])['1/27/2020', '2/3/2020', '2/10/2020', '2/17/2020', '2/24/2020',\n",
        "       '3/2/2020', '3/9/2020', '3/16/2020', '3/23/2020', '3/30/2020',\n",
        "       '4/6/2020', '4/13/2020', '4/20/2020', '4/27/2020', '5/4/2020',\n",
        "       '5/11/2020', '5/18/2020', '5/25/2020', '6/1/2020', '6/8/2020',\n",
        "       '6/15/2020', '6/22/2020', '6/29/2020', '7/6/2020', '7/13/2020',\n",
        "       '7/20/2020', '7/27/2020', '8/3/2020', '8/10/2020', '8/17/2020',\n",
        "       '8/24/2020', '8/31/2020', '9/7/2020', '9/14/2020'].sum().reset_index()\n",
        "\n",
        "country_data2 = pwt.groupby(['Continent', \"Country/Region\"])['Lat', 'Long'].mean().reset_index()\n",
        "country_data = pd.merge(country_data1, country_data2, on='Country/Region', how='outer')\n",
        "\n",
        "continent_data = pwt.groupby('Continent').agg('sum')\n",
        "\n",
        "country_data.to_csv('country-data.csv', index=False)\n",
        "continent_data.to_csv('continent-data.csv')"
      ],
      "execution_count": null,
      "outputs": [
        {
          "output_type": "stream",
          "text": [
            "/usr/local/lib/python3.6/dist-packages/ipykernel_launcher.py:30: FutureWarning: Indexing with multiple keys (implicitly converted to a tuple of keys) will be deprecated, use a list instead.\n",
            "/usr/local/lib/python3.6/dist-packages/ipykernel_launcher.py:32: FutureWarning: Indexing with multiple keys (implicitly converted to a tuple of keys) will be deprecated, use a list instead.\n"
          ],
          "name": "stderr"
        }
      ]
    }
  ]
}